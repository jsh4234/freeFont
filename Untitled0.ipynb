{
  "nbformat": 4,
  "nbformat_minor": 0,
  "metadata": {
    "colab": {
      "name": "Untitled0.ipynb",
      "provenance": [],
      "collapsed_sections": [],
      "authorship_tag": "ABX9TyMgZ5ulvFZodnn+z0h184Ka",
      "include_colab_link": true
    },
    "kernelspec": {
      "display_name": "Python 3",
      "name": "python3"
    }
  },
  "cells": [
    {
      "cell_type": "markdown",
      "metadata": {
        "id": "view-in-github",
        "colab_type": "text"
      },
      "source": [
        "<a href=\"https://colab.research.google.com/github/jsh4234/freeFont/blob/main/Untitled0.ipynb\" target=\"_parent\"><img src=\"https://colab.research.google.com/assets/colab-badge.svg\" alt=\"Open In Colab\"/></a>"
      ]
    },
    {
      "cell_type": "code",
      "metadata": {
        "colab": {
          "base_uri": "https://localhost:8080/",
          "height": 430
        },
        "id": "ywdO99b9jStZ",
        "outputId": "53dd66b9-b474-4e32-e5db-663602f359e5"
      },
      "source": [
        "from durable.lang import *\n",
        "with ruleset('Factory1'):\n",
        "  @when_all((m.object == '제조 일정연기'))\n",
        "  def Part1(c):\n",
        "    c.assert_fact({'State':c.m.State, 'Result':'가공 상태 및 외주 사용'})\n",
        "  @when_all((m.object == '설계 일정연기'))\n",
        "  def Part2(c):\n",
        "    c.assert_fact({'State':c.m.State, 'Result':'가공 및 외주 일정 확인'})\n",
        "  @when_all((m.object == '비전 일정연기'))\n",
        "  def Part3(c):\n",
        "    c.assert_fact({'State':c.m.State, 'Result':'고객사 스팩 협의'})\n",
        "  @when_all((m.object == '영업 일정연기'))\n",
        "  def Part4(c):\n",
        "    c.assert_fact({'State':c.m.State, 'Result':'출하 일정 조절'})\n",
        "  @when_all((m.object == '제어 일정연기'))\n",
        "  def Part5(c):\n",
        "    c.assert_fact({'State':c.m.State, 'Result':'설계 불합리 확인'})\n",
        "  @when_all((m.object == '검사 정확도'))\n",
        "  def Part6(c):\n",
        "    c.assert_fact({'State':c.m.State, 'Result':'모터 및 비전 셋팅상태 확인'})\n",
        "  @when_all((m.object == 'MES'))\n",
        "  def Part7(c):\n",
        "    c.assert_fact({'State':c.m.State, 'Result':'서버 규칙 확인'})\n",
        "  @when_all((m.object == '기구 충돌'))\n",
        "  def Part8(c):\n",
        "    c.assert_fact({'State':c.m.State, 'Result':'티칭 위치 확인'})\n",
        "  @when_all((m.object == '통신연결'))\n",
        "  def Part9(c):\n",
        "    c.assert_fact({'State':c.m.State, 'Result':'케이블 및 IP등 주소 확인'})\n",
        "  @when_all((m.object == '안전사고'))\n",
        "  def Part10(c):\n",
        "    c.assert_fact({'State':c.m.State, 'Result':'작업자 재교육'})\n",
        "  @when_all((m.object == '무언정지'))\n",
        "  def Part11(c):\n",
        "    c.assert_fact({'State':c.m.State, 'Result':'제어 시퀀스 및 센서 확인'})\n",
        "  @when_all((m.object == '오동작'))\n",
        "  def Part12(c):\n",
        "    c.assert_fact({'State':c.m.State, 'Result':'기구부 센서 확인'})\n",
        "  @when_all((m.object == '원점 이상 발생'))\n",
        "  def Part13(c):\n",
        "    c.assert_fact({'State':c.m.State, 'Result':'리미트 센서 및 상태 확인'})\n",
        "  @when_all((m.object == '제품파손'))\n",
        "  def Part14(c):\n",
        "    c.assert_fact({'State':c.m.State, 'Result':'제품 셋팅 확인'})\n",
        "  @when_all((m.object == '제품 검사 결과 이상'))\n",
        "  def Part15(c):\n",
        "    c.assert_fact({'State':c.m.State, 'Result':'비전 및 기구부 셋팅 확인'})\n",
        "  @when_all(+m.State)\n",
        "  def output(c):\n",
        "    print('대책: {0} {1} {2}',format(c.m.State, c.m.object, c.m.Result))\n",
        "\n",
        "assert_fact('Factory1',{'State':'이슈 사항','object':'제조 일정연기'})\n",
        "assert_fact('Factory1',{'State':'이슈 사항','object':'설계 일정연기'})\n",
        "assert_fact('Factory1',{'State':'이슈 사항','object':'비전 일정연기'})\n",
        "assert_fact('Factory1',{'State':'이슈 사항','object':'영업 일정연기'})\n",
        "assert_fact('Factory1',{'State':'이슈 사항','object':'제어 일정연기'})\n",
        "assert_fact('Factory1',{'State':'이슈 사항','object':'검사 정확도'})\n",
        "assert_fact('Factory1',{'State':'이슈 사항','object':'MES'})\n",
        "assert_fact('Factory1',{'State':'이슈 사항','object':'기구충돌'})\n",
        "assert_fact('Factory1',{'State':'이슈 사항','object':'통신연결'})\n",
        "assert_fact('Factory1',{'State':'이슈 사항','object':'안전사고'})\n",
        "assert_fact('Factory1',{'State':'이슈 사항','object':'무언정지'})\n",
        "assert_fact('Factory1',{'State':'이슈 사항','object':'오동작'})\n",
        "assert_fact('Factory1',{'State':'이슈 사항','object':'원점 이상 발생'})\n",
        "assert_fact('Factory1',{'State':'이슈 사항','object':'제품파손'})\n",
        "assert_fact('Factory1',{'State':'이슈 사항','object':'제품검사 결과 이상'})\n"
      ],
      "execution_count": 110,
      "outputs": [
        {
          "output_type": "error",
          "ename": "Exception",
          "evalue": "ignored",
          "traceback": [
            "\u001b[0;31m---------------------------------------------------------------------------\u001b[0m",
            "\u001b[0;31mException\u001b[0m                                 Traceback (most recent call last)",
            "\u001b[0;32m<ipython-input-110-2256d2fe1649>\u001b[0m in \u001b[0;36m<module>\u001b[0;34m()\u001b[0m\n\u001b[1;32m     50\u001b[0m     \u001b[0mprint\u001b[0m\u001b[0;34m(\u001b[0m\u001b[0;34m'대책: {0} {1} {2}'\u001b[0m\u001b[0;34m,\u001b[0m\u001b[0mformat\u001b[0m\u001b[0;34m(\u001b[0m\u001b[0mc\u001b[0m\u001b[0;34m.\u001b[0m\u001b[0mm\u001b[0m\u001b[0;34m.\u001b[0m\u001b[0mState\u001b[0m\u001b[0;34m,\u001b[0m \u001b[0mc\u001b[0m\u001b[0;34m.\u001b[0m\u001b[0mm\u001b[0m\u001b[0;34m.\u001b[0m\u001b[0mobject\u001b[0m\u001b[0;34m,\u001b[0m \u001b[0mc\u001b[0m\u001b[0;34m.\u001b[0m\u001b[0mm\u001b[0m\u001b[0;34m.\u001b[0m\u001b[0mResult\u001b[0m\u001b[0;34m)\u001b[0m\u001b[0;34m)\u001b[0m\u001b[0;34m\u001b[0m\u001b[0;34m\u001b[0m\u001b[0m\n\u001b[1;32m     51\u001b[0m \u001b[0;34m\u001b[0m\u001b[0m\n\u001b[0;32m---> 52\u001b[0;31m \u001b[0massert_fact\u001b[0m\u001b[0;34m(\u001b[0m\u001b[0;34m'Factory1'\u001b[0m\u001b[0;34m,\u001b[0m\u001b[0;34m{\u001b[0m\u001b[0;34m'State'\u001b[0m\u001b[0;34m:\u001b[0m\u001b[0;34m'이슈 사항'\u001b[0m\u001b[0;34m,\u001b[0m\u001b[0;34m'object'\u001b[0m\u001b[0;34m:\u001b[0m\u001b[0;34m'제조 일정연기'\u001b[0m\u001b[0;34m}\u001b[0m\u001b[0;34m)\u001b[0m\u001b[0;34m\u001b[0m\u001b[0;34m\u001b[0m\u001b[0m\n\u001b[0m\u001b[1;32m     53\u001b[0m \u001b[0massert_fact\u001b[0m\u001b[0;34m(\u001b[0m\u001b[0;34m'Factory1'\u001b[0m\u001b[0;34m,\u001b[0m\u001b[0;34m{\u001b[0m\u001b[0;34m'State'\u001b[0m\u001b[0;34m:\u001b[0m\u001b[0;34m'이슈 사항'\u001b[0m\u001b[0;34m,\u001b[0m\u001b[0;34m'object'\u001b[0m\u001b[0;34m:\u001b[0m\u001b[0;34m'설계 일정연기'\u001b[0m\u001b[0;34m}\u001b[0m\u001b[0;34m)\u001b[0m\u001b[0;34m\u001b[0m\u001b[0;34m\u001b[0m\u001b[0m\n\u001b[1;32m     54\u001b[0m \u001b[0massert_fact\u001b[0m\u001b[0;34m(\u001b[0m\u001b[0;34m'Factory1'\u001b[0m\u001b[0;34m,\u001b[0m\u001b[0;34m{\u001b[0m\u001b[0;34m'State'\u001b[0m\u001b[0;34m:\u001b[0m\u001b[0;34m'이슈 사항'\u001b[0m\u001b[0;34m,\u001b[0m\u001b[0;34m'object'\u001b[0m\u001b[0;34m:\u001b[0m\u001b[0;34m'비전 일정연기'\u001b[0m\u001b[0;34m}\u001b[0m\u001b[0;34m)\u001b[0m\u001b[0;34m\u001b[0m\u001b[0;34m\u001b[0m\u001b[0m\n",
            "\u001b[0;32m/usr/local/lib/python3.7/dist-packages/durable/lang.py\u001b[0m in \u001b[0;36massert_fact\u001b[0;34m(ruleset_name, fact, complete)\u001b[0m\n\u001b[1;32m    674\u001b[0m \u001b[0;34m\u001b[0m\u001b[0m\n\u001b[1;32m    675\u001b[0m \u001b[0;32mdef\u001b[0m \u001b[0massert_fact\u001b[0m\u001b[0;34m(\u001b[0m\u001b[0mruleset_name\u001b[0m\u001b[0;34m,\u001b[0m \u001b[0mfact\u001b[0m\u001b[0;34m,\u001b[0m \u001b[0mcomplete\u001b[0m \u001b[0;34m=\u001b[0m \u001b[0;32mNone\u001b[0m\u001b[0;34m)\u001b[0m\u001b[0;34m:\u001b[0m\u001b[0;34m\u001b[0m\u001b[0;34m\u001b[0m\u001b[0m\n\u001b[0;32m--> 676\u001b[0;31m     \u001b[0;32mreturn\u001b[0m \u001b[0mget_host\u001b[0m\u001b[0;34m(\u001b[0m\u001b[0;34m)\u001b[0m\u001b[0;34m.\u001b[0m\u001b[0massert_fact\u001b[0m\u001b[0;34m(\u001b[0m\u001b[0mruleset_name\u001b[0m\u001b[0;34m,\u001b[0m \u001b[0mfact\u001b[0m\u001b[0;34m,\u001b[0m \u001b[0mcomplete\u001b[0m\u001b[0;34m)\u001b[0m\u001b[0;34m\u001b[0m\u001b[0;34m\u001b[0m\u001b[0m\n\u001b[0m\u001b[1;32m    677\u001b[0m \u001b[0;34m\u001b[0m\u001b[0m\n\u001b[1;32m    678\u001b[0m \u001b[0;32mdef\u001b[0m \u001b[0massert_facts\u001b[0m\u001b[0;34m(\u001b[0m\u001b[0mruleset_name\u001b[0m\u001b[0;34m,\u001b[0m \u001b[0mfacts\u001b[0m\u001b[0;34m,\u001b[0m \u001b[0mcomplete\u001b[0m \u001b[0;34m=\u001b[0m \u001b[0;32mNone\u001b[0m\u001b[0;34m)\u001b[0m\u001b[0;34m:\u001b[0m\u001b[0;34m\u001b[0m\u001b[0;34m\u001b[0m\u001b[0m\n",
            "\u001b[0;32m/usr/local/lib/python3.7/dist-packages/durable/lang.py\u001b[0m in \u001b[0;36mget_host\u001b[0;34m()\u001b[0m\n\u001b[1;32m    661\u001b[0m             \u001b[0mruleset_definitions\u001b[0m\u001b[0;34m[\u001b[0m\u001b[0mfull_name\u001b[0m\u001b[0;34m]\u001b[0m \u001b[0;34m=\u001b[0m \u001b[0mruleset_definition\u001b[0m\u001b[0;34m\u001b[0m\u001b[0;34m\u001b[0m\u001b[0m\n\u001b[1;32m    662\u001b[0m \u001b[0;34m\u001b[0m\u001b[0m\n\u001b[0;32m--> 663\u001b[0;31m         \u001b[0m_main_host\u001b[0m\u001b[0;34m.\u001b[0m\u001b[0mregister_rulesets\u001b[0m\u001b[0;34m(\u001b[0m\u001b[0mruleset_definitions\u001b[0m\u001b[0;34m)\u001b[0m\u001b[0;34m\u001b[0m\u001b[0;34m\u001b[0m\u001b[0m\n\u001b[0m\u001b[1;32m    664\u001b[0m     \u001b[0;32mfinally\u001b[0m\u001b[0;34m:\u001b[0m\u001b[0;34m\u001b[0m\u001b[0;34m\u001b[0m\u001b[0m\n\u001b[1;32m    665\u001b[0m         \u001b[0m_rulesets\u001b[0m \u001b[0;34m=\u001b[0m \u001b[0;34m{\u001b[0m\u001b[0;34m}\u001b[0m\u001b[0;34m\u001b[0m\u001b[0;34m\u001b[0m\u001b[0m\n",
            "\u001b[0;32m/usr/local/lib/python3.7/dist-packages/durable/engine.py\u001b[0m in \u001b[0;36mregister_rulesets\u001b[0;34m(self, ruleset_definitions)\u001b[0m\n\u001b[1;32m    888\u001b[0m         \u001b[0;32mfor\u001b[0m \u001b[0mruleset_name\u001b[0m\u001b[0;34m,\u001b[0m \u001b[0mruleset\u001b[0m \u001b[0;32min\u001b[0m \u001b[0mrulesets\u001b[0m\u001b[0;34m.\u001b[0m\u001b[0mitems\u001b[0m\u001b[0;34m(\u001b[0m\u001b[0;34m)\u001b[0m\u001b[0;34m:\u001b[0m\u001b[0;34m\u001b[0m\u001b[0;34m\u001b[0m\u001b[0m\n\u001b[1;32m    889\u001b[0m             \u001b[0;32mif\u001b[0m \u001b[0mruleset_name\u001b[0m \u001b[0;32min\u001b[0m \u001b[0mself\u001b[0m\u001b[0;34m.\u001b[0m\u001b[0m_ruleset_directory\u001b[0m\u001b[0;34m:\u001b[0m\u001b[0;34m\u001b[0m\u001b[0;34m\u001b[0m\u001b[0m\n\u001b[0;32m--> 890\u001b[0;31m                 \u001b[0;32mraise\u001b[0m \u001b[0mException\u001b[0m\u001b[0;34m(\u001b[0m\u001b[0;34m'Ruleset with name {0} already registered'\u001b[0m\u001b[0;34m.\u001b[0m\u001b[0mformat\u001b[0m\u001b[0;34m(\u001b[0m\u001b[0mruleset_name\u001b[0m\u001b[0;34m)\u001b[0m\u001b[0;34m)\u001b[0m\u001b[0;34m\u001b[0m\u001b[0;34m\u001b[0m\u001b[0m\n\u001b[0m\u001b[1;32m    891\u001b[0m             \u001b[0;32melse\u001b[0m\u001b[0;34m:\u001b[0m\u001b[0;34m\u001b[0m\u001b[0;34m\u001b[0m\u001b[0m\n\u001b[1;32m    892\u001b[0m                 \u001b[0mself\u001b[0m\u001b[0;34m.\u001b[0m\u001b[0m_ruleset_directory\u001b[0m\u001b[0;34m[\u001b[0m\u001b[0mruleset_name\u001b[0m\u001b[0;34m]\u001b[0m \u001b[0;34m=\u001b[0m \u001b[0mruleset\u001b[0m\u001b[0;34m\u001b[0m\u001b[0;34m\u001b[0m\u001b[0m\n",
            "\u001b[0;31mException\u001b[0m: Ruleset with name Factory1 already registered"
          ]
        }
      ]
    }
  ]
}